{
 "cells": [
  {
   "cell_type": "code",
   "execution_count": 1,
   "id": "9263c42d",
   "metadata": {},
   "outputs": [
    {
     "name": "stdout",
     "output_type": "stream",
     "text": [
      "何日後に実家に着きますか5\n"
     ]
    }
   ],
   "source": [
    "a = int(input(\"何日後に実家に着きますか\"))"
   ]
  },
  {
   "cell_type": "code",
   "execution_count": 2,
   "id": "77d1de84",
   "metadata": {},
   "outputs": [
    {
     "name": "stdout",
     "output_type": "stream",
     "text": [
      "何日後に実家を去りますか10\n"
     ]
    }
   ],
   "source": [
    "b = int(input(\"何日後に実家を去りますか\"))"
   ]
  },
  {
   "cell_type": "code",
   "execution_count": 3,
   "id": "73e25c33",
   "metadata": {},
   "outputs": [
    {
     "name": "stdout",
     "output_type": "stream",
     "text": [
      "ビバ子が実家を訪れた日はいつですか7\n"
     ]
    }
   ],
   "source": [
    "c = int(input(\"ビバ子が実家を訪れた日はいつですか\"))"
   ]
  },
  {
   "cell_type": "code",
   "execution_count": 7,
   "id": "a299d8d4",
   "metadata": {},
   "outputs": [],
   "source": [
    "if a<=c<b:\n",
    "    ans = 1\n",
    "\n",
    "else:\n",
    "    ans = 0"
   ]
  },
  {
   "cell_type": "code",
   "execution_count": 8,
   "id": "f9d2be26",
   "metadata": {},
   "outputs": [
    {
     "name": "stdout",
     "output_type": "stream",
     "text": [
      "1\n"
     ]
    }
   ],
   "source": [
    "print(ans)"
   ]
  },
  {
   "cell_type": "code",
   "execution_count": null,
   "id": "75c1e8d2",
   "metadata": {},
   "outputs": [],
   "source": []
  }
 ],
 "metadata": {
  "kernelspec": {
   "display_name": "Python 3 (ipykernel)",
   "language": "python",
   "name": "python3"
  },
  "language_info": {
   "codemirror_mode": {
    "name": "ipython",
    "version": 3
   },
   "file_extension": ".py",
   "mimetype": "text/x-python",
   "name": "python",
   "nbconvert_exporter": "python",
   "pygments_lexer": "ipython3",
   "version": "3.9.12"
  }
 },
 "nbformat": 4,
 "nbformat_minor": 5
}
