{
 "cells": [
  {
   "cell_type": "code",
   "execution_count": 1,
   "id": "082e79cd",
   "metadata": {},
   "outputs": [
    {
     "name": "stdout",
     "output_type": "stream",
     "text": [
      "7560\n"
     ]
    }
   ],
   "source": [
    "n = int(input())"
   ]
  },
  {
   "cell_type": "code",
   "execution_count": 4,
   "id": "9b153fae",
   "metadata": {},
   "outputs": [],
   "source": [
    "a = n%1000"
   ]
  },
  {
   "cell_type": "code",
   "execution_count": 5,
   "id": "cf4bd7ce",
   "metadata": {},
   "outputs": [
    {
     "data": {
      "text/plain": [
       "560"
      ]
     },
     "execution_count": 5,
     "metadata": {},
     "output_type": "execute_result"
    }
   ],
   "source": [
    "a"
   ]
  },
  {
   "cell_type": "code",
   "execution_count": null,
   "id": "a3608995",
   "metadata": {},
   "outputs": [],
   "source": [
    "b = n%100"
   ]
  },
  {
   "cell_type": "code",
   "execution_count": 3,
   "id": "434297e3",
   "metadata": {},
   "outputs": [
    {
     "data": {
      "text/plain": [
       "60"
      ]
     },
     "execution_count": 3,
     "metadata": {},
     "output_type": "execute_result"
    }
   ],
   "source": [
    "a"
   ]
  },
  {
   "cell_type": "code",
   "execution_count": null,
   "id": "ba85af08",
   "metadata": {},
   "outputs": [],
   "source": [
    "c = n%10"
   ]
  },
  {
   "cell_type": "code",
   "execution_count": null,
   "id": "15b81970",
   "metadata": {},
   "outputs": [],
   "source": []
  }
 ],
 "metadata": {
  "kernelspec": {
   "display_name": "Python 3 (ipykernel)",
   "language": "python",
   "name": "python3"
  },
  "language_info": {
   "codemirror_mode": {
    "name": "ipython",
    "version": 3
   },
   "file_extension": ".py",
   "mimetype": "text/x-python",
   "name": "python",
   "nbconvert_exporter": "python",
   "pygments_lexer": "ipython3",
   "version": "3.9.12"
  }
 },
 "nbformat": 4,
 "nbformat_minor": 5
}
